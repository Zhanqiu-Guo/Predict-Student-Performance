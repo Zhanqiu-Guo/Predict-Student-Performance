{
 "cells": [
  {
   "cell_type": "code",
   "execution_count": 1,
   "metadata": {},
   "outputs": [
    {
     "data": {
      "text/plain": [
       "4723977449"
      ]
     },
     "execution_count": 1,
     "metadata": {},
     "output_type": "execute_result"
    }
   ],
   "source": [
    "import os\n",
    "import time\n",
    "os.path.getsize('predict-student-performance-from-game-play/train.csv')"
   ]
  },
  {
   "cell_type": "code",
   "execution_count": 2,
   "metadata": {},
   "outputs": [
    {
     "name": "stdout",
     "output_type": "stream",
     "text": [
      "Read csv with dask:  0.016386032104492188 sec\n"
     ]
    }
   ],
   "source": [
    "from dask import dataframe as dd\n",
    "start = time.time()\n",
    "dask_df = dd.read_csv('predict-student-performance-from-game-play/train.csv')\n",
    "end = time.time()\n",
    "print(\"Read csv with dask: \",(end-start),\"sec\")"
   ]
  },
  {
   "cell_type": "code",
   "execution_count": 3,
   "metadata": {},
   "outputs": [
    {
     "name": "stdout",
     "output_type": "stream",
     "text": [
      "Read csv with pandas:  81.71979117393494 sec\n"
     ]
    }
   ],
   "source": [
    "import pandas as pd\n",
    "start = time.time()\n",
    "df = pd.read_csv('predict-student-performance-from-game-play/train.csv')\n",
    "end = time.time()\n",
    "print(\"Read csv with pandas: \",(end-start),\"sec\")"
   ]
  },
  {
   "cell_type": "code",
   "execution_count": 4,
   "metadata": {},
   "outputs": [],
   "source": [
    "df = dd.read_csv('predict-student-performance-from-game-play/train.csv')"
   ]
  },
  {
   "cell_type": "code",
   "execution_count": 8,
   "metadata": {},
   "outputs": [
    {
     "name": "stderr",
     "output_type": "stream",
     "text": [
      "2023-04-10 20:44:47,391\tINFO worker.py:1553 -- Started a local Ray instance.\n"
     ]
    },
    {
     "name": "stdout",
     "output_type": "stream",
     "text": [
      "Read csv with modin and ray:  55.67519211769104 sec\n"
     ]
    }
   ],
   "source": [
    "import modin.pandas as pd\n",
    "import ray\n",
    "ray.shutdown()\n",
    "ray.init()\n",
    "start = time.time()\n",
    "df = pd.read_csv('predict-student-performance-from-game-play/train.csv')\n",
    "end = time.time()\n",
    "print(\"Read csv with modin and ray: \",(end-start),\"sec\")"
   ]
  },
  {
   "cell_type": "code",
   "execution_count": 10,
   "metadata": {},
   "outputs": [
    {
     "data": {
      "text/plain": [
       "26296946"
      ]
     },
     "execution_count": 10,
     "metadata": {},
     "output_type": "execute_result"
    }
   ],
   "source": [
    "len(df.index) # number of rows"
   ]
  },
  {
   "cell_type": "code",
   "execution_count": 11,
   "metadata": {},
   "outputs": [
    {
     "data": {
      "text/plain": [
       "20"
      ]
     },
     "execution_count": 11,
     "metadata": {},
     "output_type": "execute_result"
    }
   ],
   "source": [
    "len(df.columns) # number of columns"
   ]
  },
  {
   "cell_type": "code",
   "execution_count": 12,
   "metadata": {},
   "outputs": [],
   "source": [
    "# remove special character\n",
    "df.columns=df.columns.str.replace('[#,@,&]','')"
   ]
  },
  {
   "cell_type": "code",
   "execution_count": 13,
   "metadata": {},
   "outputs": [],
   "source": [
    "#remove white space\n",
    "df.columns = df.columns.str.replace(' ', '')"
   ]
  },
  {
   "cell_type": "code",
   "execution_count": 14,
   "metadata": {},
   "outputs": [
    {
     "data": {
      "text/plain": [
       "Index(['session_id', 'index', 'elapsed_time', 'event_name', 'name', 'level',\n",
       "       'page', 'room_coor_x', 'room_coor_y', 'screen_coor_x', 'screen_coor_y',\n",
       "       'hover_duration', 'text', 'fqid', 'room_fqid', 'text_fqid',\n",
       "       'fullscreen', 'hq', 'music', 'level_group'],\n",
       "      dtype='object')"
      ]
     },
     "execution_count": 14,
     "metadata": {},
     "output_type": "execute_result"
    }
   ],
   "source": [
    "data=df.columns\n",
    "data"
   ]
  },
  {
   "cell_type": "code",
   "execution_count": 15,
   "metadata": {},
   "outputs": [],
   "source": [
    "import logging\n",
    "import os\n",
    "import subprocess\n",
    "import yaml\n",
    "import pandas as pd\n",
    "import datetime \n",
    "import gc\n",
    "import re"
   ]
  },
  {
   "cell_type": "code",
   "execution_count": 16,
   "metadata": {},
   "outputs": [
    {
     "name": "stdout",
     "output_type": "stream",
     "text": [
      "Writing utility.py\n"
     ]
    }
   ],
   "source": [
    "%%writefile utility.py\n",
    "import logging\n",
    "import os\n",
    "import subprocess\n",
    "import yaml\n",
    "import pandas as pd\n",
    "import datetime \n",
    "import gc\n",
    "import re\n",
    "def read_config_file(filepath):\n",
    "    with open(filepath, 'r') as stream:\n",
    "        try:\n",
    "            return yaml.load(stream, Loader=yaml.Loader)\n",
    "        except yaml.YAMLError as exc:\n",
    "            logging.error(exc)\n",
    "\n",
    "def col_header_val(df,table_config):\n",
    "    df.columns = df.columns.str.lower()\n",
    "    df.columns = df.columns.str.replace('[^\\w]','_',regex=True)\n",
    "    df.columns = list(map(lambda x: x.strip('_'), list(df.columns)))\n",
    "    df.columns = list(map(lambda x: replacer(x,'_'), list(df.columns)))\n",
    "    expected_col = list(map(lambda x: x.lower(),  table_config['columns']))\n",
    "    expected_col.sort()\n",
    "    df.columns =list(map(lambda x: x.lower(), list(df.columns)))\n",
    "    df = df.reindex(sorted(df.columns), axis=1)\n",
    "    if len(df.columns) == len(expected_col) and list(expected_col)  == list(df.columns):\n",
    "        print(\"column name and column length validation passed\")\n",
    "        return 1\n",
    "    else:\n",
    "        print(\"column name and column length validation failed\")\n",
    "        mismatched_columns_file = list(set(df.columns).difference(expected_col))\n",
    "        print(\"Following File columns are not in the YAML file\",mismatched_columns_file)\n",
    "        missing_YAML_file = list(set(expected_col).difference(df.columns))\n",
    "        print(\"Following YAML columns are not in the file uploaded\",missing_YAML_file)\n",
    "        logging.info(f'df columns: {df.columns}')\n",
    "        logging.info(f'expected columns: {expected_col}')\n",
    "        return 0"
   ]
  },
  {
   "cell_type": "code",
   "execution_count": 31,
   "metadata": {},
   "outputs": [
    {
     "name": "stdout",
     "output_type": "stream",
     "text": [
      "Overwriting store.yaml\n"
     ]
    }
   ],
   "source": [
    "%%writefile store.yaml\n",
    "file_type: csv\n",
    "dataset_name: file\n",
    "file_name: predict-student-performance-from-game-play/train\n",
    "table_name: edsurv\n",
    "inbound_delimiter: \",\"\n",
    "outbound_delimiter: \"|\"\n",
    "skip_leading_rows: 1\n",
    "columns: \n",
    "    - session_id\n",
    "      - index\n",
    "      - elapsed_time\n",
    "      - event_name\n",
    "      - name\n",
    "      - level\n",
    "      - page\n",
    "      - room_coor_x\n",
    "      - room_coor_y\n",
    "      - screen_coor_x\n",
    "      - screen_coor_y\n",
    "      - hover_duration\n",
    "      - text\n",
    "      - fqid\n",
    "      - room_fqid\n",
    "      - text_fqid\n",
    "      - fullscreen\n",
    "      - hq\n",
    "      - music"
   ]
  },
  {
   "cell_type": "code",
   "execution_count": 32,
   "metadata": {},
   "outputs": [],
   "source": [
    "# Reading config file\n",
    "import utility as util\n",
    "config_data = util.read_config_file('store.yaml')    "
   ]
  },
  {
   "cell_type": "code",
   "execution_count": 33,
   "metadata": {},
   "outputs": [
    {
     "data": {
      "text/plain": [
       "{'file_type': 'csv',\n",
       " 'dataset_name': 'file',\n",
       " 'file_name': 'predict-student-performance-from-game-play/train',\n",
       " 'table_name': 'edsurv',\n",
       " 'inbound_delimiter': ',',\n",
       " 'outbound_delimiter': '|',\n",
       " 'skip_leading_rows': 1,\n",
       " 'columns': ['session_id - index - elapsed_time - event_name - name - level - page - room_coor_x - room_coor_y - screen_coor_x - screen_coor_y - hover_duration - text - fqid - room_fqid - text_fqid - fullscreen - hq - music']}"
      ]
     },
     "execution_count": 33,
     "metadata": {},
     "output_type": "execute_result"
    }
   ],
   "source": [
    "config_data"
   ]
  },
  {
   "cell_type": "code",
   "execution_count": 34,
   "metadata": {},
   "outputs": [
    {
     "data": {
      "text/html": [
       "<div>\n",
       "<style scoped>\n",
       "    .dataframe tbody tr th:only-of-type {\n",
       "        vertical-align: middle;\n",
       "    }\n",
       "\n",
       "    .dataframe tbody tr th {\n",
       "        vertical-align: top;\n",
       "    }\n",
       "\n",
       "    .dataframe thead th {\n",
       "        text-align: right;\n",
       "    }\n",
       "</style>\n",
       "<table border=\"1\" class=\"dataframe\">\n",
       "  <thead>\n",
       "    <tr style=\"text-align: right;\">\n",
       "      <th></th>\n",
       "      <th>session_id</th>\n",
       "      <th>index</th>\n",
       "      <th>elapsed_time</th>\n",
       "      <th>event_name</th>\n",
       "      <th>name</th>\n",
       "      <th>level</th>\n",
       "      <th>page</th>\n",
       "      <th>room_coor_x</th>\n",
       "      <th>room_coor_y</th>\n",
       "      <th>screen_coor_x</th>\n",
       "      <th>screen_coor_y</th>\n",
       "      <th>hover_duration</th>\n",
       "      <th>text</th>\n",
       "      <th>fqid</th>\n",
       "      <th>room_fqid</th>\n",
       "      <th>text_fqid</th>\n",
       "      <th>fullscreen</th>\n",
       "      <th>hq</th>\n",
       "      <th>music</th>\n",
       "      <th>level_group</th>\n",
       "    </tr>\n",
       "  </thead>\n",
       "  <tbody>\n",
       "    <tr>\n",
       "      <th>0</th>\n",
       "      <td>20090312431273200</td>\n",
       "      <td>0</td>\n",
       "      <td>0</td>\n",
       "      <td>cutscene_click</td>\n",
       "      <td>basic</td>\n",
       "      <td>0</td>\n",
       "      <td>NaN</td>\n",
       "      <td>-413.991405</td>\n",
       "      <td>-159.314686</td>\n",
       "      <td>380.0</td>\n",
       "      <td>494.0</td>\n",
       "      <td>NaN</td>\n",
       "      <td>undefined</td>\n",
       "      <td>intro</td>\n",
       "      <td>tunic.historicalsociety.closet</td>\n",
       "      <td>tunic.historicalsociety.closet.intro</td>\n",
       "      <td>0</td>\n",
       "      <td>0</td>\n",
       "      <td>1</td>\n",
       "      <td>0-4</td>\n",
       "    </tr>\n",
       "    <tr>\n",
       "      <th>1</th>\n",
       "      <td>20090312431273200</td>\n",
       "      <td>1</td>\n",
       "      <td>1323</td>\n",
       "      <td>person_click</td>\n",
       "      <td>basic</td>\n",
       "      <td>0</td>\n",
       "      <td>NaN</td>\n",
       "      <td>-413.991405</td>\n",
       "      <td>-159.314686</td>\n",
       "      <td>380.0</td>\n",
       "      <td>494.0</td>\n",
       "      <td>NaN</td>\n",
       "      <td>Whatcha doing over there, Jo?</td>\n",
       "      <td>gramps</td>\n",
       "      <td>tunic.historicalsociety.closet</td>\n",
       "      <td>tunic.historicalsociety.closet.gramps.intro_0_...</td>\n",
       "      <td>0</td>\n",
       "      <td>0</td>\n",
       "      <td>1</td>\n",
       "      <td>0-4</td>\n",
       "    </tr>\n",
       "    <tr>\n",
       "      <th>2</th>\n",
       "      <td>20090312431273200</td>\n",
       "      <td>2</td>\n",
       "      <td>831</td>\n",
       "      <td>person_click</td>\n",
       "      <td>basic</td>\n",
       "      <td>0</td>\n",
       "      <td>NaN</td>\n",
       "      <td>-413.991405</td>\n",
       "      <td>-159.314686</td>\n",
       "      <td>380.0</td>\n",
       "      <td>494.0</td>\n",
       "      <td>NaN</td>\n",
       "      <td>Just talking to Teddy.</td>\n",
       "      <td>gramps</td>\n",
       "      <td>tunic.historicalsociety.closet</td>\n",
       "      <td>tunic.historicalsociety.closet.gramps.intro_0_...</td>\n",
       "      <td>0</td>\n",
       "      <td>0</td>\n",
       "      <td>1</td>\n",
       "      <td>0-4</td>\n",
       "    </tr>\n",
       "    <tr>\n",
       "      <th>3</th>\n",
       "      <td>20090312431273200</td>\n",
       "      <td>3</td>\n",
       "      <td>1147</td>\n",
       "      <td>person_click</td>\n",
       "      <td>basic</td>\n",
       "      <td>0</td>\n",
       "      <td>NaN</td>\n",
       "      <td>-413.991405</td>\n",
       "      <td>-159.314686</td>\n",
       "      <td>380.0</td>\n",
       "      <td>494.0</td>\n",
       "      <td>NaN</td>\n",
       "      <td>I gotta run to my meeting!</td>\n",
       "      <td>gramps</td>\n",
       "      <td>tunic.historicalsociety.closet</td>\n",
       "      <td>tunic.historicalsociety.closet.gramps.intro_0_...</td>\n",
       "      <td>0</td>\n",
       "      <td>0</td>\n",
       "      <td>1</td>\n",
       "      <td>0-4</td>\n",
       "    </tr>\n",
       "    <tr>\n",
       "      <th>4</th>\n",
       "      <td>20090312431273200</td>\n",
       "      <td>4</td>\n",
       "      <td>1863</td>\n",
       "      <td>person_click</td>\n",
       "      <td>basic</td>\n",
       "      <td>0</td>\n",
       "      <td>NaN</td>\n",
       "      <td>-412.991405</td>\n",
       "      <td>-159.314686</td>\n",
       "      <td>381.0</td>\n",
       "      <td>494.0</td>\n",
       "      <td>NaN</td>\n",
       "      <td>Can I come, Gramps?</td>\n",
       "      <td>gramps</td>\n",
       "      <td>tunic.historicalsociety.closet</td>\n",
       "      <td>tunic.historicalsociety.closet.gramps.intro_0_...</td>\n",
       "      <td>0</td>\n",
       "      <td>0</td>\n",
       "      <td>1</td>\n",
       "      <td>0-4</td>\n",
       "    </tr>\n",
       "  </tbody>\n",
       "</table>\n",
       "</div>"
      ],
      "text/plain": [
       "          session_id  index  elapsed_time      event_name   name  level  page  \\\n",
       "0  20090312431273200      0             0  cutscene_click  basic      0   NaN   \n",
       "1  20090312431273200      1          1323    person_click  basic      0   NaN   \n",
       "2  20090312431273200      2           831    person_click  basic      0   NaN   \n",
       "3  20090312431273200      3          1147    person_click  basic      0   NaN   \n",
       "4  20090312431273200      4          1863    person_click  basic      0   NaN   \n",
       "\n",
       "   room_coor_x  room_coor_y  screen_coor_x  screen_coor_y  hover_duration  \\\n",
       "0  -413.991405  -159.314686          380.0          494.0             NaN   \n",
       "1  -413.991405  -159.314686          380.0          494.0             NaN   \n",
       "2  -413.991405  -159.314686          380.0          494.0             NaN   \n",
       "3  -413.991405  -159.314686          380.0          494.0             NaN   \n",
       "4  -412.991405  -159.314686          381.0          494.0             NaN   \n",
       "\n",
       "                            text    fqid                       room_fqid  \\\n",
       "0                      undefined   intro  tunic.historicalsociety.closet   \n",
       "1  Whatcha doing over there, Jo?  gramps  tunic.historicalsociety.closet   \n",
       "2         Just talking to Teddy.  gramps  tunic.historicalsociety.closet   \n",
       "3     I gotta run to my meeting!  gramps  tunic.historicalsociety.closet   \n",
       "4            Can I come, Gramps?  gramps  tunic.historicalsociety.closet   \n",
       "\n",
       "                                           text_fqid  fullscreen  hq  music  \\\n",
       "0               tunic.historicalsociety.closet.intro           0   0      1   \n",
       "1  tunic.historicalsociety.closet.gramps.intro_0_...           0   0      1   \n",
       "2  tunic.historicalsociety.closet.gramps.intro_0_...           0   0      1   \n",
       "3  tunic.historicalsociety.closet.gramps.intro_0_...           0   0      1   \n",
       "4  tunic.historicalsociety.closet.gramps.intro_0_...           0   0      1   \n",
       "\n",
       "  level_group  \n",
       "0         0-4  \n",
       "1         0-4  \n",
       "2         0-4  \n",
       "3         0-4  \n",
       "4         0-4  "
      ]
     },
     "execution_count": 34,
     "metadata": {},
     "output_type": "execute_result"
    }
   ],
   "source": [
    "from dask import dataframe as dd\n",
    "df_sample = dd.read_csv('predict-student-performance-from-game-play/train.csv', delimiter=',')\n",
    "df_sample.head()"
   ]
  },
  {
   "cell_type": "code",
   "execution_count": 35,
   "metadata": {},
   "outputs": [],
   "source": [
    "#Reading the file using config file\n",
    "file_type = config_data['file_type']\n",
    "source_file = config_data['file_name'] + f'.{file_type}'"
   ]
  },
  {
   "cell_type": "code",
   "execution_count": 36,
   "metadata": {},
   "outputs": [
    {
     "data": {
      "text/html": [
       "<div>\n",
       "<style scoped>\n",
       "    .dataframe tbody tr th:only-of-type {\n",
       "        vertical-align: middle;\n",
       "    }\n",
       "\n",
       "    .dataframe tbody tr th {\n",
       "        vertical-align: top;\n",
       "    }\n",
       "\n",
       "    .dataframe thead th {\n",
       "        text-align: right;\n",
       "    }\n",
       "</style>\n",
       "<table border=\"1\" class=\"dataframe\">\n",
       "  <thead>\n",
       "    <tr style=\"text-align: right;\">\n",
       "      <th></th>\n",
       "      <th>session_id</th>\n",
       "      <th>index</th>\n",
       "      <th>elapsed_time</th>\n",
       "      <th>event_name</th>\n",
       "      <th>name</th>\n",
       "      <th>level</th>\n",
       "      <th>page</th>\n",
       "      <th>room_coor_x</th>\n",
       "      <th>room_coor_y</th>\n",
       "      <th>screen_coor_x</th>\n",
       "      <th>screen_coor_y</th>\n",
       "      <th>hover_duration</th>\n",
       "      <th>text</th>\n",
       "      <th>fqid</th>\n",
       "      <th>room_fqid</th>\n",
       "      <th>text_fqid</th>\n",
       "      <th>fullscreen</th>\n",
       "      <th>hq</th>\n",
       "      <th>music</th>\n",
       "      <th>level_group</th>\n",
       "    </tr>\n",
       "  </thead>\n",
       "  <tbody>\n",
       "    <tr>\n",
       "      <th>0</th>\n",
       "      <td>20090312431273200</td>\n",
       "      <td>0</td>\n",
       "      <td>0</td>\n",
       "      <td>cutscene_click</td>\n",
       "      <td>basic</td>\n",
       "      <td>0</td>\n",
       "      <td>NaN</td>\n",
       "      <td>-413.991405</td>\n",
       "      <td>-159.314686</td>\n",
       "      <td>380.0</td>\n",
       "      <td>494.0</td>\n",
       "      <td>NaN</td>\n",
       "      <td>undefined</td>\n",
       "      <td>intro</td>\n",
       "      <td>tunic.historicalsociety.closet</td>\n",
       "      <td>tunic.historicalsociety.closet.intro</td>\n",
       "      <td>0</td>\n",
       "      <td>0</td>\n",
       "      <td>1</td>\n",
       "      <td>0-4</td>\n",
       "    </tr>\n",
       "    <tr>\n",
       "      <th>1</th>\n",
       "      <td>20090312431273200</td>\n",
       "      <td>1</td>\n",
       "      <td>1323</td>\n",
       "      <td>person_click</td>\n",
       "      <td>basic</td>\n",
       "      <td>0</td>\n",
       "      <td>NaN</td>\n",
       "      <td>-413.991405</td>\n",
       "      <td>-159.314686</td>\n",
       "      <td>380.0</td>\n",
       "      <td>494.0</td>\n",
       "      <td>NaN</td>\n",
       "      <td>Whatcha doing over there, Jo?</td>\n",
       "      <td>gramps</td>\n",
       "      <td>tunic.historicalsociety.closet</td>\n",
       "      <td>tunic.historicalsociety.closet.gramps.intro_0_...</td>\n",
       "      <td>0</td>\n",
       "      <td>0</td>\n",
       "      <td>1</td>\n",
       "      <td>0-4</td>\n",
       "    </tr>\n",
       "    <tr>\n",
       "      <th>2</th>\n",
       "      <td>20090312431273200</td>\n",
       "      <td>2</td>\n",
       "      <td>831</td>\n",
       "      <td>person_click</td>\n",
       "      <td>basic</td>\n",
       "      <td>0</td>\n",
       "      <td>NaN</td>\n",
       "      <td>-413.991405</td>\n",
       "      <td>-159.314686</td>\n",
       "      <td>380.0</td>\n",
       "      <td>494.0</td>\n",
       "      <td>NaN</td>\n",
       "      <td>Just talking to Teddy.</td>\n",
       "      <td>gramps</td>\n",
       "      <td>tunic.historicalsociety.closet</td>\n",
       "      <td>tunic.historicalsociety.closet.gramps.intro_0_...</td>\n",
       "      <td>0</td>\n",
       "      <td>0</td>\n",
       "      <td>1</td>\n",
       "      <td>0-4</td>\n",
       "    </tr>\n",
       "    <tr>\n",
       "      <th>3</th>\n",
       "      <td>20090312431273200</td>\n",
       "      <td>3</td>\n",
       "      <td>1147</td>\n",
       "      <td>person_click</td>\n",
       "      <td>basic</td>\n",
       "      <td>0</td>\n",
       "      <td>NaN</td>\n",
       "      <td>-413.991405</td>\n",
       "      <td>-159.314686</td>\n",
       "      <td>380.0</td>\n",
       "      <td>494.0</td>\n",
       "      <td>NaN</td>\n",
       "      <td>I gotta run to my meeting!</td>\n",
       "      <td>gramps</td>\n",
       "      <td>tunic.historicalsociety.closet</td>\n",
       "      <td>tunic.historicalsociety.closet.gramps.intro_0_...</td>\n",
       "      <td>0</td>\n",
       "      <td>0</td>\n",
       "      <td>1</td>\n",
       "      <td>0-4</td>\n",
       "    </tr>\n",
       "    <tr>\n",
       "      <th>4</th>\n",
       "      <td>20090312431273200</td>\n",
       "      <td>4</td>\n",
       "      <td>1863</td>\n",
       "      <td>person_click</td>\n",
       "      <td>basic</td>\n",
       "      <td>0</td>\n",
       "      <td>NaN</td>\n",
       "      <td>-412.991405</td>\n",
       "      <td>-159.314686</td>\n",
       "      <td>381.0</td>\n",
       "      <td>494.0</td>\n",
       "      <td>NaN</td>\n",
       "      <td>Can I come, Gramps?</td>\n",
       "      <td>gramps</td>\n",
       "      <td>tunic.historicalsociety.closet</td>\n",
       "      <td>tunic.historicalsociety.closet.gramps.intro_0_...</td>\n",
       "      <td>0</td>\n",
       "      <td>0</td>\n",
       "      <td>1</td>\n",
       "      <td>0-4</td>\n",
       "    </tr>\n",
       "  </tbody>\n",
       "</table>\n",
       "</div>"
      ],
      "text/plain": [
       "          session_id  index  elapsed_time      event_name   name  level  page  \\\n",
       "0  20090312431273200      0             0  cutscene_click  basic      0   NaN   \n",
       "1  20090312431273200      1          1323    person_click  basic      0   NaN   \n",
       "2  20090312431273200      2           831    person_click  basic      0   NaN   \n",
       "3  20090312431273200      3          1147    person_click  basic      0   NaN   \n",
       "4  20090312431273200      4          1863    person_click  basic      0   NaN   \n",
       "\n",
       "   room_coor_x  room_coor_y  screen_coor_x  screen_coor_y  hover_duration  \\\n",
       "0  -413.991405  -159.314686          380.0          494.0             NaN   \n",
       "1  -413.991405  -159.314686          380.0          494.0             NaN   \n",
       "2  -413.991405  -159.314686          380.0          494.0             NaN   \n",
       "3  -413.991405  -159.314686          380.0          494.0             NaN   \n",
       "4  -412.991405  -159.314686          381.0          494.0             NaN   \n",
       "\n",
       "                            text    fqid                       room_fqid  \\\n",
       "0                      undefined   intro  tunic.historicalsociety.closet   \n",
       "1  Whatcha doing over there, Jo?  gramps  tunic.historicalsociety.closet   \n",
       "2         Just talking to Teddy.  gramps  tunic.historicalsociety.closet   \n",
       "3     I gotta run to my meeting!  gramps  tunic.historicalsociety.closet   \n",
       "4            Can I come, Gramps?  gramps  tunic.historicalsociety.closet   \n",
       "\n",
       "                                           text_fqid  fullscreen  hq  music  \\\n",
       "0               tunic.historicalsociety.closet.intro           0   0      1   \n",
       "1  tunic.historicalsociety.closet.gramps.intro_0_...           0   0      1   \n",
       "2  tunic.historicalsociety.closet.gramps.intro_0_...           0   0      1   \n",
       "3  tunic.historicalsociety.closet.gramps.intro_0_...           0   0      1   \n",
       "4  tunic.historicalsociety.closet.gramps.intro_0_...           0   0      1   \n",
       "\n",
       "  level_group  \n",
       "0         0-4  \n",
       "1         0-4  \n",
       "2         0-4  \n",
       "3         0-4  \n",
       "4         0-4  "
      ]
     },
     "execution_count": 36,
     "metadata": {},
     "output_type": "execute_result"
    }
   ],
   "source": [
    "import pandas as pd\n",
    "df = pd.read_csv(source_file,config_data['inbound_delimiter'])\n",
    "df.head()"
   ]
  },
  {
   "cell_type": "code",
   "execution_count": 37,
   "metadata": {},
   "outputs": [
    {
     "name": "stdout",
     "output_type": "stream",
     "text": [
      "columns of files are: Index(['session_id', 'index', 'elapsed_time', 'event_name', 'name', 'level',\n",
      "       'page', 'room_coor_x', 'room_coor_y', 'screen_coor_x', 'screen_coor_y',\n",
      "       'hover_duration', 'text', 'fqid', 'room_fqid', 'text_fqid',\n",
      "       'fullscreen', 'hq', 'music', 'level_group'],\n",
      "      dtype='object')\n",
      "columns of YAML are: ['session_id - index - elapsed_time - event_name - name - level - page - room_coor_x - room_coor_y - screen_coor_x - screen_coor_y - hover_duration - text - fqid - room_fqid - text_fqid - fullscreen - hq - music']\n"
     ]
    }
   ],
   "source": [
    "print(\"columns of files are:\" ,df.columns)\n",
    "print(\"columns of YAML are:\" ,config_data['columns'])"
   ]
  },
  {
   "cell_type": "code",
   "execution_count": 38,
   "metadata": {},
   "outputs": [
    {
     "data": {
      "text/plain": [
       "['c:\\\\Users\\\\zhanq\\\\Desktop\\\\NYU\\\\CS\\\\Machine Learning\\\\Project\\\\train.csv.gz\\\\00.part',\n",
       " 'c:\\\\Users\\\\zhanq\\\\Desktop\\\\NYU\\\\CS\\\\Machine Learning\\\\Project\\\\train.csv.gz\\\\01.part',\n",
       " 'c:\\\\Users\\\\zhanq\\\\Desktop\\\\NYU\\\\CS\\\\Machine Learning\\\\Project\\\\train.csv.gz\\\\02.part',\n",
       " 'c:\\\\Users\\\\zhanq\\\\Desktop\\\\NYU\\\\CS\\\\Machine Learning\\\\Project\\\\train.csv.gz\\\\03.part',\n",
       " 'c:\\\\Users\\\\zhanq\\\\Desktop\\\\NYU\\\\CS\\\\Machine Learning\\\\Project\\\\train.csv.gz\\\\04.part',\n",
       " 'c:\\\\Users\\\\zhanq\\\\Desktop\\\\NYU\\\\CS\\\\Machine Learning\\\\Project\\\\train.csv.gz\\\\05.part',\n",
       " 'c:\\\\Users\\\\zhanq\\\\Desktop\\\\NYU\\\\CS\\\\Machine Learning\\\\Project\\\\train.csv.gz\\\\06.part',\n",
       " 'c:\\\\Users\\\\zhanq\\\\Desktop\\\\NYU\\\\CS\\\\Machine Learning\\\\Project\\\\train.csv.gz\\\\07.part',\n",
       " 'c:\\\\Users\\\\zhanq\\\\Desktop\\\\NYU\\\\CS\\\\Machine Learning\\\\Project\\\\train.csv.gz\\\\08.part',\n",
       " 'c:\\\\Users\\\\zhanq\\\\Desktop\\\\NYU\\\\CS\\\\Machine Learning\\\\Project\\\\train.csv.gz\\\\09.part',\n",
       " 'c:\\\\Users\\\\zhanq\\\\Desktop\\\\NYU\\\\CS\\\\Machine Learning\\\\Project\\\\train.csv.gz\\\\10.part',\n",
       " 'c:\\\\Users\\\\zhanq\\\\Desktop\\\\NYU\\\\CS\\\\Machine Learning\\\\Project\\\\train.csv.gz\\\\11.part',\n",
       " 'c:\\\\Users\\\\zhanq\\\\Desktop\\\\NYU\\\\CS\\\\Machine Learning\\\\Project\\\\train.csv.gz\\\\12.part',\n",
       " 'c:\\\\Users\\\\zhanq\\\\Desktop\\\\NYU\\\\CS\\\\Machine Learning\\\\Project\\\\train.csv.gz\\\\13.part',\n",
       " 'c:\\\\Users\\\\zhanq\\\\Desktop\\\\NYU\\\\CS\\\\Machine Learning\\\\Project\\\\train.csv.gz\\\\14.part',\n",
       " 'c:\\\\Users\\\\zhanq\\\\Desktop\\\\NYU\\\\CS\\\\Machine Learning\\\\Project\\\\train.csv.gz\\\\15.part',\n",
       " 'c:\\\\Users\\\\zhanq\\\\Desktop\\\\NYU\\\\CS\\\\Machine Learning\\\\Project\\\\train.csv.gz\\\\16.part',\n",
       " 'c:\\\\Users\\\\zhanq\\\\Desktop\\\\NYU\\\\CS\\\\Machine Learning\\\\Project\\\\train.csv.gz\\\\17.part',\n",
       " 'c:\\\\Users\\\\zhanq\\\\Desktop\\\\NYU\\\\CS\\\\Machine Learning\\\\Project\\\\train.csv.gz\\\\18.part',\n",
       " 'c:\\\\Users\\\\zhanq\\\\Desktop\\\\NYU\\\\CS\\\\Machine Learning\\\\Project\\\\train.csv.gz\\\\19.part',\n",
       " 'c:\\\\Users\\\\zhanq\\\\Desktop\\\\NYU\\\\CS\\\\Machine Learning\\\\Project\\\\train.csv.gz\\\\20.part',\n",
       " 'c:\\\\Users\\\\zhanq\\\\Desktop\\\\NYU\\\\CS\\\\Machine Learning\\\\Project\\\\train.csv.gz\\\\21.part',\n",
       " 'c:\\\\Users\\\\zhanq\\\\Desktop\\\\NYU\\\\CS\\\\Machine Learning\\\\Project\\\\train.csv.gz\\\\22.part',\n",
       " 'c:\\\\Users\\\\zhanq\\\\Desktop\\\\NYU\\\\CS\\\\Machine Learning\\\\Project\\\\train.csv.gz\\\\23.part',\n",
       " 'c:\\\\Users\\\\zhanq\\\\Desktop\\\\NYU\\\\CS\\\\Machine Learning\\\\Project\\\\train.csv.gz\\\\24.part',\n",
       " 'c:\\\\Users\\\\zhanq\\\\Desktop\\\\NYU\\\\CS\\\\Machine Learning\\\\Project\\\\train.csv.gz\\\\25.part',\n",
       " 'c:\\\\Users\\\\zhanq\\\\Desktop\\\\NYU\\\\CS\\\\Machine Learning\\\\Project\\\\train.csv.gz\\\\26.part',\n",
       " 'c:\\\\Users\\\\zhanq\\\\Desktop\\\\NYU\\\\CS\\\\Machine Learning\\\\Project\\\\train.csv.gz\\\\27.part',\n",
       " 'c:\\\\Users\\\\zhanq\\\\Desktop\\\\NYU\\\\CS\\\\Machine Learning\\\\Project\\\\train.csv.gz\\\\28.part',\n",
       " 'c:\\\\Users\\\\zhanq\\\\Desktop\\\\NYU\\\\CS\\\\Machine Learning\\\\Project\\\\train.csv.gz\\\\29.part',\n",
       " 'c:\\\\Users\\\\zhanq\\\\Desktop\\\\NYU\\\\CS\\\\Machine Learning\\\\Project\\\\train.csv.gz\\\\30.part',\n",
       " 'c:\\\\Users\\\\zhanq\\\\Desktop\\\\NYU\\\\CS\\\\Machine Learning\\\\Project\\\\train.csv.gz\\\\31.part',\n",
       " 'c:\\\\Users\\\\zhanq\\\\Desktop\\\\NYU\\\\CS\\\\Machine Learning\\\\Project\\\\train.csv.gz\\\\32.part',\n",
       " 'c:\\\\Users\\\\zhanq\\\\Desktop\\\\NYU\\\\CS\\\\Machine Learning\\\\Project\\\\train.csv.gz\\\\33.part',\n",
       " 'c:\\\\Users\\\\zhanq\\\\Desktop\\\\NYU\\\\CS\\\\Machine Learning\\\\Project\\\\train.csv.gz\\\\34.part',\n",
       " 'c:\\\\Users\\\\zhanq\\\\Desktop\\\\NYU\\\\CS\\\\Machine Learning\\\\Project\\\\train.csv.gz\\\\35.part',\n",
       " 'c:\\\\Users\\\\zhanq\\\\Desktop\\\\NYU\\\\CS\\\\Machine Learning\\\\Project\\\\train.csv.gz\\\\36.part',\n",
       " 'c:\\\\Users\\\\zhanq\\\\Desktop\\\\NYU\\\\CS\\\\Machine Learning\\\\Project\\\\train.csv.gz\\\\37.part',\n",
       " 'c:\\\\Users\\\\zhanq\\\\Desktop\\\\NYU\\\\CS\\\\Machine Learning\\\\Project\\\\train.csv.gz\\\\38.part',\n",
       " 'c:\\\\Users\\\\zhanq\\\\Desktop\\\\NYU\\\\CS\\\\Machine Learning\\\\Project\\\\train.csv.gz\\\\39.part',\n",
       " 'c:\\\\Users\\\\zhanq\\\\Desktop\\\\NYU\\\\CS\\\\Machine Learning\\\\Project\\\\train.csv.gz\\\\40.part',\n",
       " 'c:\\\\Users\\\\zhanq\\\\Desktop\\\\NYU\\\\CS\\\\Machine Learning\\\\Project\\\\train.csv.gz\\\\41.part',\n",
       " 'c:\\\\Users\\\\zhanq\\\\Desktop\\\\NYU\\\\CS\\\\Machine Learning\\\\Project\\\\train.csv.gz\\\\42.part',\n",
       " 'c:\\\\Users\\\\zhanq\\\\Desktop\\\\NYU\\\\CS\\\\Machine Learning\\\\Project\\\\train.csv.gz\\\\43.part',\n",
       " 'c:\\\\Users\\\\zhanq\\\\Desktop\\\\NYU\\\\CS\\\\Machine Learning\\\\Project\\\\train.csv.gz\\\\44.part',\n",
       " 'c:\\\\Users\\\\zhanq\\\\Desktop\\\\NYU\\\\CS\\\\Machine Learning\\\\Project\\\\train.csv.gz\\\\45.part',\n",
       " 'c:\\\\Users\\\\zhanq\\\\Desktop\\\\NYU\\\\CS\\\\Machine Learning\\\\Project\\\\train.csv.gz\\\\46.part',\n",
       " 'c:\\\\Users\\\\zhanq\\\\Desktop\\\\NYU\\\\CS\\\\Machine Learning\\\\Project\\\\train.csv.gz\\\\47.part',\n",
       " 'c:\\\\Users\\\\zhanq\\\\Desktop\\\\NYU\\\\CS\\\\Machine Learning\\\\Project\\\\train.csv.gz\\\\48.part',\n",
       " 'c:\\\\Users\\\\zhanq\\\\Desktop\\\\NYU\\\\CS\\\\Machine Learning\\\\Project\\\\train.csv.gz\\\\49.part',\n",
       " 'c:\\\\Users\\\\zhanq\\\\Desktop\\\\NYU\\\\CS\\\\Machine Learning\\\\Project\\\\train.csv.gz\\\\50.part',\n",
       " 'c:\\\\Users\\\\zhanq\\\\Desktop\\\\NYU\\\\CS\\\\Machine Learning\\\\Project\\\\train.csv.gz\\\\51.part',\n",
       " 'c:\\\\Users\\\\zhanq\\\\Desktop\\\\NYU\\\\CS\\\\Machine Learning\\\\Project\\\\train.csv.gz\\\\52.part',\n",
       " 'c:\\\\Users\\\\zhanq\\\\Desktop\\\\NYU\\\\CS\\\\Machine Learning\\\\Project\\\\train.csv.gz\\\\53.part',\n",
       " 'c:\\\\Users\\\\zhanq\\\\Desktop\\\\NYU\\\\CS\\\\Machine Learning\\\\Project\\\\train.csv.gz\\\\54.part',\n",
       " 'c:\\\\Users\\\\zhanq\\\\Desktop\\\\NYU\\\\CS\\\\Machine Learning\\\\Project\\\\train.csv.gz\\\\55.part',\n",
       " 'c:\\\\Users\\\\zhanq\\\\Desktop\\\\NYU\\\\CS\\\\Machine Learning\\\\Project\\\\train.csv.gz\\\\56.part',\n",
       " 'c:\\\\Users\\\\zhanq\\\\Desktop\\\\NYU\\\\CS\\\\Machine Learning\\\\Project\\\\train.csv.gz\\\\57.part',\n",
       " 'c:\\\\Users\\\\zhanq\\\\Desktop\\\\NYU\\\\CS\\\\Machine Learning\\\\Project\\\\train.csv.gz\\\\58.part',\n",
       " 'c:\\\\Users\\\\zhanq\\\\Desktop\\\\NYU\\\\CS\\\\Machine Learning\\\\Project\\\\train.csv.gz\\\\59.part',\n",
       " 'c:\\\\Users\\\\zhanq\\\\Desktop\\\\NYU\\\\CS\\\\Machine Learning\\\\Project\\\\train.csv.gz\\\\60.part',\n",
       " 'c:\\\\Users\\\\zhanq\\\\Desktop\\\\NYU\\\\CS\\\\Machine Learning\\\\Project\\\\train.csv.gz\\\\61.part',\n",
       " 'c:\\\\Users\\\\zhanq\\\\Desktop\\\\NYU\\\\CS\\\\Machine Learning\\\\Project\\\\train.csv.gz\\\\62.part',\n",
       " 'c:\\\\Users\\\\zhanq\\\\Desktop\\\\NYU\\\\CS\\\\Machine Learning\\\\Project\\\\train.csv.gz\\\\63.part',\n",
       " 'c:\\\\Users\\\\zhanq\\\\Desktop\\\\NYU\\\\CS\\\\Machine Learning\\\\Project\\\\train.csv.gz\\\\64.part',\n",
       " 'c:\\\\Users\\\\zhanq\\\\Desktop\\\\NYU\\\\CS\\\\Machine Learning\\\\Project\\\\train.csv.gz\\\\65.part',\n",
       " 'c:\\\\Users\\\\zhanq\\\\Desktop\\\\NYU\\\\CS\\\\Machine Learning\\\\Project\\\\train.csv.gz\\\\66.part',\n",
       " 'c:\\\\Users\\\\zhanq\\\\Desktop\\\\NYU\\\\CS\\\\Machine Learning\\\\Project\\\\train.csv.gz\\\\67.part',\n",
       " 'c:\\\\Users\\\\zhanq\\\\Desktop\\\\NYU\\\\CS\\\\Machine Learning\\\\Project\\\\train.csv.gz\\\\68.part',\n",
       " 'c:\\\\Users\\\\zhanq\\\\Desktop\\\\NYU\\\\CS\\\\Machine Learning\\\\Project\\\\train.csv.gz\\\\69.part',\n",
       " 'c:\\\\Users\\\\zhanq\\\\Desktop\\\\NYU\\\\CS\\\\Machine Learning\\\\Project\\\\train.csv.gz\\\\70.part',\n",
       " 'c:\\\\Users\\\\zhanq\\\\Desktop\\\\NYU\\\\CS\\\\Machine Learning\\\\Project\\\\train.csv.gz\\\\71.part',\n",
       " 'c:\\\\Users\\\\zhanq\\\\Desktop\\\\NYU\\\\CS\\\\Machine Learning\\\\Project\\\\train.csv.gz\\\\72.part']"
      ]
     },
     "execution_count": 38,
     "metadata": {},
     "output_type": "execute_result"
    }
   ],
   "source": [
    "import datetime\n",
    "import csv\n",
    "import gzip\n",
    "\n",
    "from dask import dataframe as dd\n",
    "df = dd.read_csv('predict-student-performance-from-game-play/train.csv',delimiter=',')\n",
    "\n",
    "# Write csv in gz format in pipe separated text file (|)\n",
    "df.to_csv('train.csv.gz',\n",
    "          sep='|',\n",
    "          header=True,\n",
    "          index=False,\n",
    "          quoting=csv.QUOTE_ALL,\n",
    "          compression='gzip',\n",
    "          quotechar='\"',\n",
    "          doublequote=True,\n",
    "          line_terminator='\\n')"
   ]
  },
  {
   "cell_type": "code",
   "execution_count": 39,
   "metadata": {},
   "outputs": [
    {
     "name": "stdout",
     "output_type": "stream",
     "text": [
      "00.part\n",
      "01.part\n",
      "02.part\n",
      "03.part\n",
      "04.part\n",
      "05.part\n",
      "06.part\n",
      "07.part\n",
      "08.part\n",
      "09.part\n",
      "10.part\n",
      "11.part\n",
      "12.part\n",
      "13.part\n",
      "14.part\n",
      "15.part\n",
      "16.part\n",
      "17.part\n",
      "18.part\n",
      "19.part\n",
      "20.part\n",
      "21.part\n",
      "22.part\n",
      "23.part\n",
      "24.part\n",
      "25.part\n",
      "26.part\n",
      "27.part\n",
      "28.part\n",
      "29.part\n",
      "30.part\n",
      "31.part\n",
      "32.part\n",
      "33.part\n",
      "34.part\n",
      "35.part\n",
      "36.part\n",
      "37.part\n",
      "38.part\n",
      "39.part\n",
      "40.part\n",
      "41.part\n",
      "42.part\n",
      "43.part\n",
      "44.part\n",
      "45.part\n",
      "46.part\n",
      "47.part\n",
      "48.part\n",
      "49.part\n",
      "50.part\n",
      "51.part\n",
      "52.part\n",
      "53.part\n",
      "54.part\n",
      "55.part\n",
      "56.part\n",
      "57.part\n",
      "58.part\n",
      "59.part\n",
      "60.part\n",
      "61.part\n",
      "62.part\n",
      "63.part\n",
      "64.part\n",
      "65.part\n",
      "66.part\n",
      "67.part\n",
      "68.part\n",
      "69.part\n",
      "70.part\n",
      "71.part\n",
      "72.part\n"
     ]
    }
   ],
   "source": [
    "#number of files in gz format folder\n",
    "import os\n",
    "entries = os.listdir('train.csv.gz/')\n",
    "for entry in entries:\n",
    "    print(entry)"
   ]
  },
  {
   "cell_type": "code",
   "execution_count": 40,
   "metadata": {},
   "outputs": [
    {
     "data": {
      "text/plain": [
       "32768"
      ]
     },
     "execution_count": 40,
     "metadata": {},
     "output_type": "execute_result"
    }
   ],
   "source": [
    "#size of the gz format folder\n",
    "os.path.getsize('train.csv.gz')"
   ]
  }
 ],
 "metadata": {
  "kernelspec": {
   "display_name": "base",
   "language": "python",
   "name": "python3"
  },
  "language_info": {
   "codemirror_mode": {
    "name": "ipython",
    "version": 3
   },
   "file_extension": ".py",
   "mimetype": "text/x-python",
   "name": "python",
   "nbconvert_exporter": "python",
   "pygments_lexer": "ipython3",
   "version": "3.9.13"
  },
  "orig_nbformat": 4
 },
 "nbformat": 4,
 "nbformat_minor": 2
}
